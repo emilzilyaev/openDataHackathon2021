{
  "nbformat": 4,
  "nbformat_minor": 0,
  "metadata": {
    "kernelspec": {
      "display_name": "Python 3",
      "language": "python",
      "name": "python3"
    },
    "language_info": {
      "codemirror_mode": {
        "name": "ipython",
        "version": 3
      },
      "file_extension": ".py",
      "mimetype": "text/x-python",
      "name": "python",
      "nbconvert_exporter": "python",
      "pygments_lexer": "ipython3",
      "version": "3.8.8"
    },
    "toc": {
      "base_numbering": 1,
      "nav_menu": {},
      "number_sections": true,
      "sideBar": true,
      "skip_h1_title": false,
      "title_cell": "Table of Contents",
      "title_sidebar": "Contents",
      "toc_cell": false,
      "toc_position": {},
      "toc_section_display": true,
      "toc_window_display": false
    },
    "colab": {
      "name": "OD_finaltask.ipynb",
      "provenance": [],
      "collapsed_sections": [],
      "machine_shape": "hm",
      "include_colab_link": true
    },
    "accelerator": "GPU"
  },
  "cells": [
    {
      "cell_type": "markdown",
      "metadata": {
        "id": "view-in-github",
        "colab_type": "text"
      },
      "source": [
        "<a href=\"https://colab.research.google.com/github/emilziyaev/openDataHackathon2021/blob/main/OD_finaltask.ipynb\" target=\"_parent\"><img src=\"https://colab.research.google.com/assets/colab-badge.svg\" alt=\"Open In Colab\"/></a>"
      ]
    },
    {
      "cell_type": "code",
      "metadata": {
        "id": "Ro9RE72AAsWV"
      },
      "source": [
        "import pandas as pd\n",
        "import matplotlib.pyplot as plt\n",
        "import copy"
      ],
      "execution_count": null,
      "outputs": []
    },
    {
      "cell_type": "code",
      "metadata": {
        "id": "jkcH91UIAsWe"
      },
      "source": [
        "import warnings\n",
        "warnings.filterwarnings(\"ignore\")"
      ],
      "execution_count": null,
      "outputs": []
    },
    {
      "cell_type": "code",
      "metadata": {
        "colab": {
          "base_uri": "https://localhost:8080/"
        },
        "id": "MiPLgeSfCs_2",
        "outputId": "fb864455-2e6d-4880-9835-fb0f2d477f03"
      },
      "source": [
        "from google.colab import drive\n",
        "drive.mount('/content/drive')"
      ],
      "execution_count": null,
      "outputs": [
        {
          "output_type": "stream",
          "name": "stdout",
          "text": [
            "Mounted at /content/drive\n"
          ]
        }
      ]
    },
    {
      "cell_type": "code",
      "metadata": {
        "id": "I4329X0oAsWg"
      },
      "source": [
        "data = pd.read_csv(\"/content/first_dataset_train.csv\")"
      ],
      "execution_count": null,
      "outputs": []
    },
    {
      "cell_type": "code",
      "metadata": {
        "colab": {
          "base_uri": "https://localhost:8080/",
          "height": 287
        },
        "id": "CTSkrPCZAsWg",
        "outputId": "2d276059-395f-4876-da53-cd74dfbed2fe"
      },
      "source": [
        "data.head()"
      ],
      "execution_count": null,
      "outputs": [
        {
          "output_type": "execute_result",
          "data": {
            "text/plain": [
              "  Unnamed: 0  metka_0  metka_1  metka_10  metka_11  metka_12  metka_2  \\\n",
              "0    57030_1      NaN      NaN       NaN       NaN       NaN    145.0   \n",
              "1    66906_1    305.0     42.0       NaN       NaN       1.0    103.0   \n",
              "2   401861_1    289.0      NaN       NaN       NaN       NaN    161.0   \n",
              "3   141133_1      NaN      NaN       NaN       NaN       0.0      NaN   \n",
              "4    37143_1    157.0      NaN       NaN       NaN       NaN    136.0   \n",
              "\n",
              "   metka_3  metka_4  metka_5  metka_6  metka_7  metka_9        age  gender  \\\n",
              "0      NaN      NaN      NaN      NaN      NaN      NaN  51.950685       1   \n",
              "1     24.8     6.00   33.200     4.14     16.6     74.2  42.383562       0   \n",
              "2      NaN     6.13      NaN      NaN      NaN      NaN  63.545205       1   \n",
              "3      NaN      NaN      NaN      NaN      NaN      NaN  49.232877       0   \n",
              "4     28.7     2.50    0.414     4.73     52.7      NaN  30.306849       0   \n",
              "\n",
              "   target_kt  \n",
              "0          1  \n",
              "1          0  \n",
              "2          2  \n",
              "3          3  \n",
              "4          1  "
            ],
            "text/html": [
              "\n",
              "  <div id=\"df-9aba0897-ed08-4358-9dcd-129cc6224fbc\">\n",
              "    <div class=\"colab-df-container\">\n",
              "      <div>\n",
              "<style scoped>\n",
              "    .dataframe tbody tr th:only-of-type {\n",
              "        vertical-align: middle;\n",
              "    }\n",
              "\n",
              "    .dataframe tbody tr th {\n",
              "        vertical-align: top;\n",
              "    }\n",
              "\n",
              "    .dataframe thead th {\n",
              "        text-align: right;\n",
              "    }\n",
              "</style>\n",
              "<table border=\"1\" class=\"dataframe\">\n",
              "  <thead>\n",
              "    <tr style=\"text-align: right;\">\n",
              "      <th></th>\n",
              "      <th>Unnamed: 0</th>\n",
              "      <th>metka_0</th>\n",
              "      <th>metka_1</th>\n",
              "      <th>metka_10</th>\n",
              "      <th>metka_11</th>\n",
              "      <th>metka_12</th>\n",
              "      <th>metka_2</th>\n",
              "      <th>metka_3</th>\n",
              "      <th>metka_4</th>\n",
              "      <th>metka_5</th>\n",
              "      <th>metka_6</th>\n",
              "      <th>metka_7</th>\n",
              "      <th>metka_9</th>\n",
              "      <th>age</th>\n",
              "      <th>gender</th>\n",
              "      <th>target_kt</th>\n",
              "    </tr>\n",
              "  </thead>\n",
              "  <tbody>\n",
              "    <tr>\n",
              "      <th>0</th>\n",
              "      <td>57030_1</td>\n",
              "      <td>NaN</td>\n",
              "      <td>NaN</td>\n",
              "      <td>NaN</td>\n",
              "      <td>NaN</td>\n",
              "      <td>NaN</td>\n",
              "      <td>145.0</td>\n",
              "      <td>NaN</td>\n",
              "      <td>NaN</td>\n",
              "      <td>NaN</td>\n",
              "      <td>NaN</td>\n",
              "      <td>NaN</td>\n",
              "      <td>NaN</td>\n",
              "      <td>51.950685</td>\n",
              "      <td>1</td>\n",
              "      <td>1</td>\n",
              "    </tr>\n",
              "    <tr>\n",
              "      <th>1</th>\n",
              "      <td>66906_1</td>\n",
              "      <td>305.0</td>\n",
              "      <td>42.0</td>\n",
              "      <td>NaN</td>\n",
              "      <td>NaN</td>\n",
              "      <td>1.0</td>\n",
              "      <td>103.0</td>\n",
              "      <td>24.8</td>\n",
              "      <td>6.00</td>\n",
              "      <td>33.200</td>\n",
              "      <td>4.14</td>\n",
              "      <td>16.6</td>\n",
              "      <td>74.2</td>\n",
              "      <td>42.383562</td>\n",
              "      <td>0</td>\n",
              "      <td>0</td>\n",
              "    </tr>\n",
              "    <tr>\n",
              "      <th>2</th>\n",
              "      <td>401861_1</td>\n",
              "      <td>289.0</td>\n",
              "      <td>NaN</td>\n",
              "      <td>NaN</td>\n",
              "      <td>NaN</td>\n",
              "      <td>NaN</td>\n",
              "      <td>161.0</td>\n",
              "      <td>NaN</td>\n",
              "      <td>6.13</td>\n",
              "      <td>NaN</td>\n",
              "      <td>NaN</td>\n",
              "      <td>NaN</td>\n",
              "      <td>NaN</td>\n",
              "      <td>63.545205</td>\n",
              "      <td>1</td>\n",
              "      <td>2</td>\n",
              "    </tr>\n",
              "    <tr>\n",
              "      <th>3</th>\n",
              "      <td>141133_1</td>\n",
              "      <td>NaN</td>\n",
              "      <td>NaN</td>\n",
              "      <td>NaN</td>\n",
              "      <td>NaN</td>\n",
              "      <td>0.0</td>\n",
              "      <td>NaN</td>\n",
              "      <td>NaN</td>\n",
              "      <td>NaN</td>\n",
              "      <td>NaN</td>\n",
              "      <td>NaN</td>\n",
              "      <td>NaN</td>\n",
              "      <td>NaN</td>\n",
              "      <td>49.232877</td>\n",
              "      <td>0</td>\n",
              "      <td>3</td>\n",
              "    </tr>\n",
              "    <tr>\n",
              "      <th>4</th>\n",
              "      <td>37143_1</td>\n",
              "      <td>157.0</td>\n",
              "      <td>NaN</td>\n",
              "      <td>NaN</td>\n",
              "      <td>NaN</td>\n",
              "      <td>NaN</td>\n",
              "      <td>136.0</td>\n",
              "      <td>28.7</td>\n",
              "      <td>2.50</td>\n",
              "      <td>0.414</td>\n",
              "      <td>4.73</td>\n",
              "      <td>52.7</td>\n",
              "      <td>NaN</td>\n",
              "      <td>30.306849</td>\n",
              "      <td>0</td>\n",
              "      <td>1</td>\n",
              "    </tr>\n",
              "  </tbody>\n",
              "</table>\n",
              "</div>\n",
              "      <button class=\"colab-df-convert\" onclick=\"convertToInteractive('df-9aba0897-ed08-4358-9dcd-129cc6224fbc')\"\n",
              "              title=\"Convert this dataframe to an interactive table.\"\n",
              "              style=\"display:none;\">\n",
              "        \n",
              "  <svg xmlns=\"http://www.w3.org/2000/svg\" height=\"24px\"viewBox=\"0 0 24 24\"\n",
              "       width=\"24px\">\n",
              "    <path d=\"M0 0h24v24H0V0z\" fill=\"none\"/>\n",
              "    <path d=\"M18.56 5.44l.94 2.06.94-2.06 2.06-.94-2.06-.94-.94-2.06-.94 2.06-2.06.94zm-11 1L8.5 8.5l.94-2.06 2.06-.94-2.06-.94L8.5 2.5l-.94 2.06-2.06.94zm10 10l.94 2.06.94-2.06 2.06-.94-2.06-.94-.94-2.06-.94 2.06-2.06.94z\"/><path d=\"M17.41 7.96l-1.37-1.37c-.4-.4-.92-.59-1.43-.59-.52 0-1.04.2-1.43.59L10.3 9.45l-7.72 7.72c-.78.78-.78 2.05 0 2.83L4 21.41c.39.39.9.59 1.41.59.51 0 1.02-.2 1.41-.59l7.78-7.78 2.81-2.81c.8-.78.8-2.07 0-2.86zM5.41 20L4 18.59l7.72-7.72 1.47 1.35L5.41 20z\"/>\n",
              "  </svg>\n",
              "      </button>\n",
              "      \n",
              "  <style>\n",
              "    .colab-df-container {\n",
              "      display:flex;\n",
              "      flex-wrap:wrap;\n",
              "      gap: 12px;\n",
              "    }\n",
              "\n",
              "    .colab-df-convert {\n",
              "      background-color: #E8F0FE;\n",
              "      border: none;\n",
              "      border-radius: 50%;\n",
              "      cursor: pointer;\n",
              "      display: none;\n",
              "      fill: #1967D2;\n",
              "      height: 32px;\n",
              "      padding: 0 0 0 0;\n",
              "      width: 32px;\n",
              "    }\n",
              "\n",
              "    .colab-df-convert:hover {\n",
              "      background-color: #E2EBFA;\n",
              "      box-shadow: 0px 1px 2px rgba(60, 64, 67, 0.3), 0px 1px 3px 1px rgba(60, 64, 67, 0.15);\n",
              "      fill: #174EA6;\n",
              "    }\n",
              "\n",
              "    [theme=dark] .colab-df-convert {\n",
              "      background-color: #3B4455;\n",
              "      fill: #D2E3FC;\n",
              "    }\n",
              "\n",
              "    [theme=dark] .colab-df-convert:hover {\n",
              "      background-color: #434B5C;\n",
              "      box-shadow: 0px 1px 3px 1px rgba(0, 0, 0, 0.15);\n",
              "      filter: drop-shadow(0px 1px 2px rgba(0, 0, 0, 0.3));\n",
              "      fill: #FFFFFF;\n",
              "    }\n",
              "  </style>\n",
              "\n",
              "      <script>\n",
              "        const buttonEl =\n",
              "          document.querySelector('#df-9aba0897-ed08-4358-9dcd-129cc6224fbc button.colab-df-convert');\n",
              "        buttonEl.style.display =\n",
              "          google.colab.kernel.accessAllowed ? 'block' : 'none';\n",
              "\n",
              "        async function convertToInteractive(key) {\n",
              "          const element = document.querySelector('#df-9aba0897-ed08-4358-9dcd-129cc6224fbc');\n",
              "          const dataTable =\n",
              "            await google.colab.kernel.invokeFunction('convertToInteractive',\n",
              "                                                     [key], {});\n",
              "          if (!dataTable) return;\n",
              "\n",
              "          const docLinkHtml = 'Like what you see? Visit the ' +\n",
              "            '<a target=\"_blank\" href=https://colab.research.google.com/notebooks/data_table.ipynb>data table notebook</a>'\n",
              "            + ' to learn more about interactive tables.';\n",
              "          element.innerHTML = '';\n",
              "          dataTable['output_type'] = 'display_data';\n",
              "          await google.colab.output.renderOutput(dataTable, element);\n",
              "          const docLink = document.createElement('div');\n",
              "          docLink.innerHTML = docLinkHtml;\n",
              "          element.appendChild(docLink);\n",
              "        }\n",
              "      </script>\n",
              "    </div>\n",
              "  </div>\n",
              "  "
            ]
          },
          "metadata": {},
          "execution_count": 5
        }
      ]
    },
    {
      "cell_type": "code",
      "metadata": {
        "colab": {
          "base_uri": "https://localhost:8080/",
          "height": 505
        },
        "id": "KOs8tlv1BHzG",
        "outputId": "b4413e1b-c8cd-4175-a6f7-0c48baa989e7"
      },
      "source": [
        "data"
      ],
      "execution_count": null,
      "outputs": [
        {
          "output_type": "execute_result",
          "data": {
            "text/plain": [
              "     Unnamed: 0  metka_0  metka_1  metka_10  metka_11  metka_12  metka_2  \\\n",
              "0       57030_1      NaN      NaN       NaN       NaN       NaN    145.0   \n",
              "1       66906_1    305.0     42.0       NaN       NaN       1.0    103.0   \n",
              "2      401861_1    289.0      NaN       NaN       NaN       NaN    161.0   \n",
              "3      141133_1      NaN      NaN       NaN       NaN       0.0      NaN   \n",
              "4       37143_1    157.0      NaN       NaN       NaN       NaN    136.0   \n",
              "...         ...      ...      ...       ...       ...       ...      ...   \n",
              "5541   843376_3      NaN      NaN       NaN       NaN       0.0      NaN   \n",
              "5542   856375_3      NaN      NaN       NaN       NaN       1.0      NaN   \n",
              "5543   879891_3      NaN      NaN       NaN       NaN       0.0      NaN   \n",
              "5544  1047789_3      NaN      NaN       NaN       NaN       1.0      NaN   \n",
              "5545  1158612_3      NaN      NaN       NaN       NaN       0.0      NaN   \n",
              "\n",
              "      metka_3  metka_4  metka_5  metka_6  metka_7  metka_9        age  gender  \\\n",
              "0         NaN      NaN      NaN      NaN      NaN      NaN  51.950685       1   \n",
              "1        24.8     6.00   33.200     4.14     16.6     74.2  42.383562       0   \n",
              "2         NaN     6.13      NaN      NaN      NaN      NaN  63.545205       1   \n",
              "3         NaN      NaN      NaN      NaN      NaN      NaN  49.232877       0   \n",
              "4        28.7     2.50    0.414     4.73     52.7      NaN  30.306849       0   \n",
              "...       ...      ...      ...      ...      ...      ...        ...     ...   \n",
              "5541      NaN      NaN      NaN      NaN      NaN      NaN  55.917808       1   \n",
              "5542      NaN      NaN      NaN      NaN      NaN      NaN  41.890411       0   \n",
              "5543      NaN      NaN      NaN      NaN      NaN      NaN  64.671233       0   \n",
              "5544      NaN      NaN      NaN      NaN      NaN      NaN  23.613699       0   \n",
              "5545      NaN      NaN      NaN      NaN      NaN      NaN  39.641096       0   \n",
              "\n",
              "      target_kt  \n",
              "0             1  \n",
              "1             0  \n",
              "2             2  \n",
              "3             3  \n",
              "4             1  \n",
              "...         ...  \n",
              "5541          1  \n",
              "5542          0  \n",
              "5543          1  \n",
              "5544          1  \n",
              "5545          0  \n",
              "\n",
              "[5546 rows x 16 columns]"
            ],
            "text/html": [
              "\n",
              "  <div id=\"df-56ecd4ba-9e38-44d4-93b3-60d8e780d324\">\n",
              "    <div class=\"colab-df-container\">\n",
              "      <div>\n",
              "<style scoped>\n",
              "    .dataframe tbody tr th:only-of-type {\n",
              "        vertical-align: middle;\n",
              "    }\n",
              "\n",
              "    .dataframe tbody tr th {\n",
              "        vertical-align: top;\n",
              "    }\n",
              "\n",
              "    .dataframe thead th {\n",
              "        text-align: right;\n",
              "    }\n",
              "</style>\n",
              "<table border=\"1\" class=\"dataframe\">\n",
              "  <thead>\n",
              "    <tr style=\"text-align: right;\">\n",
              "      <th></th>\n",
              "      <th>Unnamed: 0</th>\n",
              "      <th>metka_0</th>\n",
              "      <th>metka_1</th>\n",
              "      <th>metka_10</th>\n",
              "      <th>metka_11</th>\n",
              "      <th>metka_12</th>\n",
              "      <th>metka_2</th>\n",
              "      <th>metka_3</th>\n",
              "      <th>metka_4</th>\n",
              "      <th>metka_5</th>\n",
              "      <th>metka_6</th>\n",
              "      <th>metka_7</th>\n",
              "      <th>metka_9</th>\n",
              "      <th>age</th>\n",
              "      <th>gender</th>\n",
              "      <th>target_kt</th>\n",
              "    </tr>\n",
              "  </thead>\n",
              "  <tbody>\n",
              "    <tr>\n",
              "      <th>0</th>\n",
              "      <td>57030_1</td>\n",
              "      <td>NaN</td>\n",
              "      <td>NaN</td>\n",
              "      <td>NaN</td>\n",
              "      <td>NaN</td>\n",
              "      <td>NaN</td>\n",
              "      <td>145.0</td>\n",
              "      <td>NaN</td>\n",
              "      <td>NaN</td>\n",
              "      <td>NaN</td>\n",
              "      <td>NaN</td>\n",
              "      <td>NaN</td>\n",
              "      <td>NaN</td>\n",
              "      <td>51.950685</td>\n",
              "      <td>1</td>\n",
              "      <td>1</td>\n",
              "    </tr>\n",
              "    <tr>\n",
              "      <th>1</th>\n",
              "      <td>66906_1</td>\n",
              "      <td>305.0</td>\n",
              "      <td>42.0</td>\n",
              "      <td>NaN</td>\n",
              "      <td>NaN</td>\n",
              "      <td>1.0</td>\n",
              "      <td>103.0</td>\n",
              "      <td>24.8</td>\n",
              "      <td>6.00</td>\n",
              "      <td>33.200</td>\n",
              "      <td>4.14</td>\n",
              "      <td>16.6</td>\n",
              "      <td>74.2</td>\n",
              "      <td>42.383562</td>\n",
              "      <td>0</td>\n",
              "      <td>0</td>\n",
              "    </tr>\n",
              "    <tr>\n",
              "      <th>2</th>\n",
              "      <td>401861_1</td>\n",
              "      <td>289.0</td>\n",
              "      <td>NaN</td>\n",
              "      <td>NaN</td>\n",
              "      <td>NaN</td>\n",
              "      <td>NaN</td>\n",
              "      <td>161.0</td>\n",
              "      <td>NaN</td>\n",
              "      <td>6.13</td>\n",
              "      <td>NaN</td>\n",
              "      <td>NaN</td>\n",
              "      <td>NaN</td>\n",
              "      <td>NaN</td>\n",
              "      <td>63.545205</td>\n",
              "      <td>1</td>\n",
              "      <td>2</td>\n",
              "    </tr>\n",
              "    <tr>\n",
              "      <th>3</th>\n",
              "      <td>141133_1</td>\n",
              "      <td>NaN</td>\n",
              "      <td>NaN</td>\n",
              "      <td>NaN</td>\n",
              "      <td>NaN</td>\n",
              "      <td>0.0</td>\n",
              "      <td>NaN</td>\n",
              "      <td>NaN</td>\n",
              "      <td>NaN</td>\n",
              "      <td>NaN</td>\n",
              "      <td>NaN</td>\n",
              "      <td>NaN</td>\n",
              "      <td>NaN</td>\n",
              "      <td>49.232877</td>\n",
              "      <td>0</td>\n",
              "      <td>3</td>\n",
              "    </tr>\n",
              "    <tr>\n",
              "      <th>4</th>\n",
              "      <td>37143_1</td>\n",
              "      <td>157.0</td>\n",
              "      <td>NaN</td>\n",
              "      <td>NaN</td>\n",
              "      <td>NaN</td>\n",
              "      <td>NaN</td>\n",
              "      <td>136.0</td>\n",
              "      <td>28.7</td>\n",
              "      <td>2.50</td>\n",
              "      <td>0.414</td>\n",
              "      <td>4.73</td>\n",
              "      <td>52.7</td>\n",
              "      <td>NaN</td>\n",
              "      <td>30.306849</td>\n",
              "      <td>0</td>\n",
              "      <td>1</td>\n",
              "    </tr>\n",
              "    <tr>\n",
              "      <th>...</th>\n",
              "      <td>...</td>\n",
              "      <td>...</td>\n",
              "      <td>...</td>\n",
              "      <td>...</td>\n",
              "      <td>...</td>\n",
              "      <td>...</td>\n",
              "      <td>...</td>\n",
              "      <td>...</td>\n",
              "      <td>...</td>\n",
              "      <td>...</td>\n",
              "      <td>...</td>\n",
              "      <td>...</td>\n",
              "      <td>...</td>\n",
              "      <td>...</td>\n",
              "      <td>...</td>\n",
              "      <td>...</td>\n",
              "    </tr>\n",
              "    <tr>\n",
              "      <th>5541</th>\n",
              "      <td>843376_3</td>\n",
              "      <td>NaN</td>\n",
              "      <td>NaN</td>\n",
              "      <td>NaN</td>\n",
              "      <td>NaN</td>\n",
              "      <td>0.0</td>\n",
              "      <td>NaN</td>\n",
              "      <td>NaN</td>\n",
              "      <td>NaN</td>\n",
              "      <td>NaN</td>\n",
              "      <td>NaN</td>\n",
              "      <td>NaN</td>\n",
              "      <td>NaN</td>\n",
              "      <td>55.917808</td>\n",
              "      <td>1</td>\n",
              "      <td>1</td>\n",
              "    </tr>\n",
              "    <tr>\n",
              "      <th>5542</th>\n",
              "      <td>856375_3</td>\n",
              "      <td>NaN</td>\n",
              "      <td>NaN</td>\n",
              "      <td>NaN</td>\n",
              "      <td>NaN</td>\n",
              "      <td>1.0</td>\n",
              "      <td>NaN</td>\n",
              "      <td>NaN</td>\n",
              "      <td>NaN</td>\n",
              "      <td>NaN</td>\n",
              "      <td>NaN</td>\n",
              "      <td>NaN</td>\n",
              "      <td>NaN</td>\n",
              "      <td>41.890411</td>\n",
              "      <td>0</td>\n",
              "      <td>0</td>\n",
              "    </tr>\n",
              "    <tr>\n",
              "      <th>5543</th>\n",
              "      <td>879891_3</td>\n",
              "      <td>NaN</td>\n",
              "      <td>NaN</td>\n",
              "      <td>NaN</td>\n",
              "      <td>NaN</td>\n",
              "      <td>0.0</td>\n",
              "      <td>NaN</td>\n",
              "      <td>NaN</td>\n",
              "      <td>NaN</td>\n",
              "      <td>NaN</td>\n",
              "      <td>NaN</td>\n",
              "      <td>NaN</td>\n",
              "      <td>NaN</td>\n",
              "      <td>64.671233</td>\n",
              "      <td>0</td>\n",
              "      <td>1</td>\n",
              "    </tr>\n",
              "    <tr>\n",
              "      <th>5544</th>\n",
              "      <td>1047789_3</td>\n",
              "      <td>NaN</td>\n",
              "      <td>NaN</td>\n",
              "      <td>NaN</td>\n",
              "      <td>NaN</td>\n",
              "      <td>1.0</td>\n",
              "      <td>NaN</td>\n",
              "      <td>NaN</td>\n",
              "      <td>NaN</td>\n",
              "      <td>NaN</td>\n",
              "      <td>NaN</td>\n",
              "      <td>NaN</td>\n",
              "      <td>NaN</td>\n",
              "      <td>23.613699</td>\n",
              "      <td>0</td>\n",
              "      <td>1</td>\n",
              "    </tr>\n",
              "    <tr>\n",
              "      <th>5545</th>\n",
              "      <td>1158612_3</td>\n",
              "      <td>NaN</td>\n",
              "      <td>NaN</td>\n",
              "      <td>NaN</td>\n",
              "      <td>NaN</td>\n",
              "      <td>0.0</td>\n",
              "      <td>NaN</td>\n",
              "      <td>NaN</td>\n",
              "      <td>NaN</td>\n",
              "      <td>NaN</td>\n",
              "      <td>NaN</td>\n",
              "      <td>NaN</td>\n",
              "      <td>NaN</td>\n",
              "      <td>39.641096</td>\n",
              "      <td>0</td>\n",
              "      <td>0</td>\n",
              "    </tr>\n",
              "  </tbody>\n",
              "</table>\n",
              "<p>5546 rows × 16 columns</p>\n",
              "</div>\n",
              "      <button class=\"colab-df-convert\" onclick=\"convertToInteractive('df-56ecd4ba-9e38-44d4-93b3-60d8e780d324')\"\n",
              "              title=\"Convert this dataframe to an interactive table.\"\n",
              "              style=\"display:none;\">\n",
              "        \n",
              "  <svg xmlns=\"http://www.w3.org/2000/svg\" height=\"24px\"viewBox=\"0 0 24 24\"\n",
              "       width=\"24px\">\n",
              "    <path d=\"M0 0h24v24H0V0z\" fill=\"none\"/>\n",
              "    <path d=\"M18.56 5.44l.94 2.06.94-2.06 2.06-.94-2.06-.94-.94-2.06-.94 2.06-2.06.94zm-11 1L8.5 8.5l.94-2.06 2.06-.94-2.06-.94L8.5 2.5l-.94 2.06-2.06.94zm10 10l.94 2.06.94-2.06 2.06-.94-2.06-.94-.94-2.06-.94 2.06-2.06.94z\"/><path d=\"M17.41 7.96l-1.37-1.37c-.4-.4-.92-.59-1.43-.59-.52 0-1.04.2-1.43.59L10.3 9.45l-7.72 7.72c-.78.78-.78 2.05 0 2.83L4 21.41c.39.39.9.59 1.41.59.51 0 1.02-.2 1.41-.59l7.78-7.78 2.81-2.81c.8-.78.8-2.07 0-2.86zM5.41 20L4 18.59l7.72-7.72 1.47 1.35L5.41 20z\"/>\n",
              "  </svg>\n",
              "      </button>\n",
              "      \n",
              "  <style>\n",
              "    .colab-df-container {\n",
              "      display:flex;\n",
              "      flex-wrap:wrap;\n",
              "      gap: 12px;\n",
              "    }\n",
              "\n",
              "    .colab-df-convert {\n",
              "      background-color: #E8F0FE;\n",
              "      border: none;\n",
              "      border-radius: 50%;\n",
              "      cursor: pointer;\n",
              "      display: none;\n",
              "      fill: #1967D2;\n",
              "      height: 32px;\n",
              "      padding: 0 0 0 0;\n",
              "      width: 32px;\n",
              "    }\n",
              "\n",
              "    .colab-df-convert:hover {\n",
              "      background-color: #E2EBFA;\n",
              "      box-shadow: 0px 1px 2px rgba(60, 64, 67, 0.3), 0px 1px 3px 1px rgba(60, 64, 67, 0.15);\n",
              "      fill: #174EA6;\n",
              "    }\n",
              "\n",
              "    [theme=dark] .colab-df-convert {\n",
              "      background-color: #3B4455;\n",
              "      fill: #D2E3FC;\n",
              "    }\n",
              "\n",
              "    [theme=dark] .colab-df-convert:hover {\n",
              "      background-color: #434B5C;\n",
              "      box-shadow: 0px 1px 3px 1px rgba(0, 0, 0, 0.15);\n",
              "      filter: drop-shadow(0px 1px 2px rgba(0, 0, 0, 0.3));\n",
              "      fill: #FFFFFF;\n",
              "    }\n",
              "  </style>\n",
              "\n",
              "      <script>\n",
              "        const buttonEl =\n",
              "          document.querySelector('#df-56ecd4ba-9e38-44d4-93b3-60d8e780d324 button.colab-df-convert');\n",
              "        buttonEl.style.display =\n",
              "          google.colab.kernel.accessAllowed ? 'block' : 'none';\n",
              "\n",
              "        async function convertToInteractive(key) {\n",
              "          const element = document.querySelector('#df-56ecd4ba-9e38-44d4-93b3-60d8e780d324');\n",
              "          const dataTable =\n",
              "            await google.colab.kernel.invokeFunction('convertToInteractive',\n",
              "                                                     [key], {});\n",
              "          if (!dataTable) return;\n",
              "\n",
              "          const docLinkHtml = 'Like what you see? Visit the ' +\n",
              "            '<a target=\"_blank\" href=https://colab.research.google.com/notebooks/data_table.ipynb>data table notebook</a>'\n",
              "            + ' to learn more about interactive tables.';\n",
              "          element.innerHTML = '';\n",
              "          dataTable['output_type'] = 'display_data';\n",
              "          await google.colab.output.renderOutput(dataTable, element);\n",
              "          const docLink = document.createElement('div');\n",
              "          docLink.innerHTML = docLinkHtml;\n",
              "          element.appendChild(docLink);\n",
              "        }\n",
              "      </script>\n",
              "    </div>\n",
              "  </div>\n",
              "  "
            ]
          },
          "metadata": {},
          "execution_count": 6
        }
      ]
    },
    {
      "cell_type": "code",
      "metadata": {
        "colab": {
          "base_uri": "https://localhost:8080/"
        },
        "id": "jMob5z48AsWp",
        "outputId": "803eabbb-16ce-4b0f-c688-6d1d315146b5"
      },
      "source": [
        "data.info()"
      ],
      "execution_count": null,
      "outputs": [
        {
          "output_type": "stream",
          "name": "stdout",
          "text": [
            "<class 'pandas.core.frame.DataFrame'>\n",
            "RangeIndex: 5546 entries, 0 to 5545\n",
            "Data columns (total 16 columns):\n",
            " #   Column      Non-Null Count  Dtype  \n",
            "---  ------      --------------  -----  \n",
            " 0   Unnamed: 0  5546 non-null   object \n",
            " 1   metka_0     2531 non-null   float64\n",
            " 2   metka_1     1041 non-null   float64\n",
            " 3   metka_10    1566 non-null   float64\n",
            " 4   metka_11    1566 non-null   float64\n",
            " 5   metka_12    4517 non-null   float64\n",
            " 6   metka_2     2790 non-null   float64\n",
            " 7   metka_3     1431 non-null   float64\n",
            " 8   metka_4     2537 non-null   float64\n",
            " 9   metka_5     2253 non-null   float64\n",
            " 10  metka_6     2253 non-null   float64\n",
            " 11  metka_7     2249 non-null   float64\n",
            " 12  metka_9     757 non-null    float64\n",
            " 13  age         5546 non-null   float64\n",
            " 14  gender      5546 non-null   int64  \n",
            " 15  target_kt   5546 non-null   int64  \n",
            "dtypes: float64(13), int64(2), object(1)\n",
            "memory usage: 693.4+ KB\n"
          ]
        }
      ]
    },
    {
      "cell_type": "code",
      "metadata": {
        "id": "PhA8qACSAsWy"
      },
      "source": [
        "data.info()"
      ],
      "execution_count": null,
      "outputs": []
    },
    {
      "cell_type": "code",
      "metadata": {
        "id": "Mg0P-XmJAsW1"
      },
      "source": [
        "# Проверяем на мультиколлинеарность\n",
        "#corr = data_pd_flag.corr()\n",
        "#display(corr > 0.08)"
      ],
      "execution_count": null,
      "outputs": []
    },
    {
      "cell_type": "code",
      "metadata": {
        "id": "lLOiE-jvAsW1"
      },
      "source": [
        "data.fillna(0, inplace=True)"
      ],
      "execution_count": null,
      "outputs": []
    },
    {
      "cell_type": "code",
      "metadata": {
        "id": "SZ9-A6iy91pf"
      },
      "source": [
        "# data[\"weights\"] = data[\"flg_90_12_add\"]*(10.12103175-0.52598474)\n",
        "# data[\"weights\"] = data[\"weights\"]+0.52598474"
      ],
      "execution_count": null,
      "outputs": []
    },
    {
      "cell_type": "code",
      "metadata": {
        "id": "yq63pVuDEXqi"
      },
      "source": [
        "!pip install catboost"
      ],
      "execution_count": null,
      "outputs": []
    },
    {
      "cell_type": "code",
      "metadata": {
        "id": "ziaBxlXnAsW3"
      },
      "source": [
        "import numpy as np\n",
        "from sklearn.model_selection import train_test_split\n",
        "from sklearn.metrics import mean_absolute_error\n",
        "from sklearn.linear_model import LogisticRegression\n",
        "from sklearn.ensemble import RandomForestRegressor\n",
        "from catboost import CatBoostRegressor\n",
        "from catboost import CatBoostClassifier\n",
        "import lightgbm as lgb"
      ],
      "execution_count": null,
      "outputs": []
    },
    {
      "cell_type": "code",
      "metadata": {
        "colab": {
          "base_uri": "https://localhost:8080/",
          "height": 505
        },
        "id": "UI82gm-FEeR5",
        "outputId": "263ba3b8-d96c-4e65-e6aa-9baebb5af0a1"
      },
      "source": [
        "data"
      ],
      "execution_count": null,
      "outputs": [
        {
          "output_type": "execute_result",
          "data": {
            "text/plain": [
              "     Unnamed: 0  metka_0  metka_1  metka_10  metka_11  metka_12  metka_2  \\\n",
              "0       57030_1      0.0      0.0       0.0       0.0       0.0    145.0   \n",
              "1       66906_1    305.0     42.0       0.0       0.0       1.0    103.0   \n",
              "2      401861_1    289.0      0.0       0.0       0.0       0.0    161.0   \n",
              "3      141133_1      0.0      0.0       0.0       0.0       0.0      0.0   \n",
              "4       37143_1    157.0      0.0       0.0       0.0       0.0    136.0   \n",
              "...         ...      ...      ...       ...       ...       ...      ...   \n",
              "5541   843376_3      0.0      0.0       0.0       0.0       0.0      0.0   \n",
              "5542   856375_3      0.0      0.0       0.0       0.0       1.0      0.0   \n",
              "5543   879891_3      0.0      0.0       0.0       0.0       0.0      0.0   \n",
              "5544  1047789_3      0.0      0.0       0.0       0.0       1.0      0.0   \n",
              "5545  1158612_3      0.0      0.0       0.0       0.0       0.0      0.0   \n",
              "\n",
              "      metka_3  metka_4  metka_5  metka_6  metka_7  metka_9        age  gender  \\\n",
              "0         0.0     0.00    0.000     0.00      0.0      0.0  51.950685       1   \n",
              "1        24.8     6.00   33.200     4.14     16.6     74.2  42.383562       0   \n",
              "2         0.0     6.13    0.000     0.00      0.0      0.0  63.545205       1   \n",
              "3         0.0     0.00    0.000     0.00      0.0      0.0  49.232877       0   \n",
              "4        28.7     2.50    0.414     4.73     52.7      0.0  30.306849       0   \n",
              "...       ...      ...      ...      ...      ...      ...        ...     ...   \n",
              "5541      0.0     0.00    0.000     0.00      0.0      0.0  55.917808       1   \n",
              "5542      0.0     0.00    0.000     0.00      0.0      0.0  41.890411       0   \n",
              "5543      0.0     0.00    0.000     0.00      0.0      0.0  64.671233       0   \n",
              "5544      0.0     0.00    0.000     0.00      0.0      0.0  23.613699       0   \n",
              "5545      0.0     0.00    0.000     0.00      0.0      0.0  39.641096       0   \n",
              "\n",
              "      target_kt  \n",
              "0             1  \n",
              "1             0  \n",
              "2             2  \n",
              "3             3  \n",
              "4             1  \n",
              "...         ...  \n",
              "5541          1  \n",
              "5542          0  \n",
              "5543          1  \n",
              "5544          1  \n",
              "5545          0  \n",
              "\n",
              "[5546 rows x 16 columns]"
            ],
            "text/html": [
              "\n",
              "  <div id=\"df-213fd20a-b74d-4dd4-85d3-6e81b47f5b04\">\n",
              "    <div class=\"colab-df-container\">\n",
              "      <div>\n",
              "<style scoped>\n",
              "    .dataframe tbody tr th:only-of-type {\n",
              "        vertical-align: middle;\n",
              "    }\n",
              "\n",
              "    .dataframe tbody tr th {\n",
              "        vertical-align: top;\n",
              "    }\n",
              "\n",
              "    .dataframe thead th {\n",
              "        text-align: right;\n",
              "    }\n",
              "</style>\n",
              "<table border=\"1\" class=\"dataframe\">\n",
              "  <thead>\n",
              "    <tr style=\"text-align: right;\">\n",
              "      <th></th>\n",
              "      <th>Unnamed: 0</th>\n",
              "      <th>metka_0</th>\n",
              "      <th>metka_1</th>\n",
              "      <th>metka_10</th>\n",
              "      <th>metka_11</th>\n",
              "      <th>metka_12</th>\n",
              "      <th>metka_2</th>\n",
              "      <th>metka_3</th>\n",
              "      <th>metka_4</th>\n",
              "      <th>metka_5</th>\n",
              "      <th>metka_6</th>\n",
              "      <th>metka_7</th>\n",
              "      <th>metka_9</th>\n",
              "      <th>age</th>\n",
              "      <th>gender</th>\n",
              "      <th>target_kt</th>\n",
              "    </tr>\n",
              "  </thead>\n",
              "  <tbody>\n",
              "    <tr>\n",
              "      <th>0</th>\n",
              "      <td>57030_1</td>\n",
              "      <td>0.0</td>\n",
              "      <td>0.0</td>\n",
              "      <td>0.0</td>\n",
              "      <td>0.0</td>\n",
              "      <td>0.0</td>\n",
              "      <td>145.0</td>\n",
              "      <td>0.0</td>\n",
              "      <td>0.00</td>\n",
              "      <td>0.000</td>\n",
              "      <td>0.00</td>\n",
              "      <td>0.0</td>\n",
              "      <td>0.0</td>\n",
              "      <td>51.950685</td>\n",
              "      <td>1</td>\n",
              "      <td>1</td>\n",
              "    </tr>\n",
              "    <tr>\n",
              "      <th>1</th>\n",
              "      <td>66906_1</td>\n",
              "      <td>305.0</td>\n",
              "      <td>42.0</td>\n",
              "      <td>0.0</td>\n",
              "      <td>0.0</td>\n",
              "      <td>1.0</td>\n",
              "      <td>103.0</td>\n",
              "      <td>24.8</td>\n",
              "      <td>6.00</td>\n",
              "      <td>33.200</td>\n",
              "      <td>4.14</td>\n",
              "      <td>16.6</td>\n",
              "      <td>74.2</td>\n",
              "      <td>42.383562</td>\n",
              "      <td>0</td>\n",
              "      <td>0</td>\n",
              "    </tr>\n",
              "    <tr>\n",
              "      <th>2</th>\n",
              "      <td>401861_1</td>\n",
              "      <td>289.0</td>\n",
              "      <td>0.0</td>\n",
              "      <td>0.0</td>\n",
              "      <td>0.0</td>\n",
              "      <td>0.0</td>\n",
              "      <td>161.0</td>\n",
              "      <td>0.0</td>\n",
              "      <td>6.13</td>\n",
              "      <td>0.000</td>\n",
              "      <td>0.00</td>\n",
              "      <td>0.0</td>\n",
              "      <td>0.0</td>\n",
              "      <td>63.545205</td>\n",
              "      <td>1</td>\n",
              "      <td>2</td>\n",
              "    </tr>\n",
              "    <tr>\n",
              "      <th>3</th>\n",
              "      <td>141133_1</td>\n",
              "      <td>0.0</td>\n",
              "      <td>0.0</td>\n",
              "      <td>0.0</td>\n",
              "      <td>0.0</td>\n",
              "      <td>0.0</td>\n",
              "      <td>0.0</td>\n",
              "      <td>0.0</td>\n",
              "      <td>0.00</td>\n",
              "      <td>0.000</td>\n",
              "      <td>0.00</td>\n",
              "      <td>0.0</td>\n",
              "      <td>0.0</td>\n",
              "      <td>49.232877</td>\n",
              "      <td>0</td>\n",
              "      <td>3</td>\n",
              "    </tr>\n",
              "    <tr>\n",
              "      <th>4</th>\n",
              "      <td>37143_1</td>\n",
              "      <td>157.0</td>\n",
              "      <td>0.0</td>\n",
              "      <td>0.0</td>\n",
              "      <td>0.0</td>\n",
              "      <td>0.0</td>\n",
              "      <td>136.0</td>\n",
              "      <td>28.7</td>\n",
              "      <td>2.50</td>\n",
              "      <td>0.414</td>\n",
              "      <td>4.73</td>\n",
              "      <td>52.7</td>\n",
              "      <td>0.0</td>\n",
              "      <td>30.306849</td>\n",
              "      <td>0</td>\n",
              "      <td>1</td>\n",
              "    </tr>\n",
              "    <tr>\n",
              "      <th>...</th>\n",
              "      <td>...</td>\n",
              "      <td>...</td>\n",
              "      <td>...</td>\n",
              "      <td>...</td>\n",
              "      <td>...</td>\n",
              "      <td>...</td>\n",
              "      <td>...</td>\n",
              "      <td>...</td>\n",
              "      <td>...</td>\n",
              "      <td>...</td>\n",
              "      <td>...</td>\n",
              "      <td>...</td>\n",
              "      <td>...</td>\n",
              "      <td>...</td>\n",
              "      <td>...</td>\n",
              "      <td>...</td>\n",
              "    </tr>\n",
              "    <tr>\n",
              "      <th>5541</th>\n",
              "      <td>843376_3</td>\n",
              "      <td>0.0</td>\n",
              "      <td>0.0</td>\n",
              "      <td>0.0</td>\n",
              "      <td>0.0</td>\n",
              "      <td>0.0</td>\n",
              "      <td>0.0</td>\n",
              "      <td>0.0</td>\n",
              "      <td>0.00</td>\n",
              "      <td>0.000</td>\n",
              "      <td>0.00</td>\n",
              "      <td>0.0</td>\n",
              "      <td>0.0</td>\n",
              "      <td>55.917808</td>\n",
              "      <td>1</td>\n",
              "      <td>1</td>\n",
              "    </tr>\n",
              "    <tr>\n",
              "      <th>5542</th>\n",
              "      <td>856375_3</td>\n",
              "      <td>0.0</td>\n",
              "      <td>0.0</td>\n",
              "      <td>0.0</td>\n",
              "      <td>0.0</td>\n",
              "      <td>1.0</td>\n",
              "      <td>0.0</td>\n",
              "      <td>0.0</td>\n",
              "      <td>0.00</td>\n",
              "      <td>0.000</td>\n",
              "      <td>0.00</td>\n",
              "      <td>0.0</td>\n",
              "      <td>0.0</td>\n",
              "      <td>41.890411</td>\n",
              "      <td>0</td>\n",
              "      <td>0</td>\n",
              "    </tr>\n",
              "    <tr>\n",
              "      <th>5543</th>\n",
              "      <td>879891_3</td>\n",
              "      <td>0.0</td>\n",
              "      <td>0.0</td>\n",
              "      <td>0.0</td>\n",
              "      <td>0.0</td>\n",
              "      <td>0.0</td>\n",
              "      <td>0.0</td>\n",
              "      <td>0.0</td>\n",
              "      <td>0.00</td>\n",
              "      <td>0.000</td>\n",
              "      <td>0.00</td>\n",
              "      <td>0.0</td>\n",
              "      <td>0.0</td>\n",
              "      <td>64.671233</td>\n",
              "      <td>0</td>\n",
              "      <td>1</td>\n",
              "    </tr>\n",
              "    <tr>\n",
              "      <th>5544</th>\n",
              "      <td>1047789_3</td>\n",
              "      <td>0.0</td>\n",
              "      <td>0.0</td>\n",
              "      <td>0.0</td>\n",
              "      <td>0.0</td>\n",
              "      <td>1.0</td>\n",
              "      <td>0.0</td>\n",
              "      <td>0.0</td>\n",
              "      <td>0.00</td>\n",
              "      <td>0.000</td>\n",
              "      <td>0.00</td>\n",
              "      <td>0.0</td>\n",
              "      <td>0.0</td>\n",
              "      <td>23.613699</td>\n",
              "      <td>0</td>\n",
              "      <td>1</td>\n",
              "    </tr>\n",
              "    <tr>\n",
              "      <th>5545</th>\n",
              "      <td>1158612_3</td>\n",
              "      <td>0.0</td>\n",
              "      <td>0.0</td>\n",
              "      <td>0.0</td>\n",
              "      <td>0.0</td>\n",
              "      <td>0.0</td>\n",
              "      <td>0.0</td>\n",
              "      <td>0.0</td>\n",
              "      <td>0.00</td>\n",
              "      <td>0.000</td>\n",
              "      <td>0.00</td>\n",
              "      <td>0.0</td>\n",
              "      <td>0.0</td>\n",
              "      <td>39.641096</td>\n",
              "      <td>0</td>\n",
              "      <td>0</td>\n",
              "    </tr>\n",
              "  </tbody>\n",
              "</table>\n",
              "<p>5546 rows × 16 columns</p>\n",
              "</div>\n",
              "      <button class=\"colab-df-convert\" onclick=\"convertToInteractive('df-213fd20a-b74d-4dd4-85d3-6e81b47f5b04')\"\n",
              "              title=\"Convert this dataframe to an interactive table.\"\n",
              "              style=\"display:none;\">\n",
              "        \n",
              "  <svg xmlns=\"http://www.w3.org/2000/svg\" height=\"24px\"viewBox=\"0 0 24 24\"\n",
              "       width=\"24px\">\n",
              "    <path d=\"M0 0h24v24H0V0z\" fill=\"none\"/>\n",
              "    <path d=\"M18.56 5.44l.94 2.06.94-2.06 2.06-.94-2.06-.94-.94-2.06-.94 2.06-2.06.94zm-11 1L8.5 8.5l.94-2.06 2.06-.94-2.06-.94L8.5 2.5l-.94 2.06-2.06.94zm10 10l.94 2.06.94-2.06 2.06-.94-2.06-.94-.94-2.06-.94 2.06-2.06.94z\"/><path d=\"M17.41 7.96l-1.37-1.37c-.4-.4-.92-.59-1.43-.59-.52 0-1.04.2-1.43.59L10.3 9.45l-7.72 7.72c-.78.78-.78 2.05 0 2.83L4 21.41c.39.39.9.59 1.41.59.51 0 1.02-.2 1.41-.59l7.78-7.78 2.81-2.81c.8-.78.8-2.07 0-2.86zM5.41 20L4 18.59l7.72-7.72 1.47 1.35L5.41 20z\"/>\n",
              "  </svg>\n",
              "      </button>\n",
              "      \n",
              "  <style>\n",
              "    .colab-df-container {\n",
              "      display:flex;\n",
              "      flex-wrap:wrap;\n",
              "      gap: 12px;\n",
              "    }\n",
              "\n",
              "    .colab-df-convert {\n",
              "      background-color: #E8F0FE;\n",
              "      border: none;\n",
              "      border-radius: 50%;\n",
              "      cursor: pointer;\n",
              "      display: none;\n",
              "      fill: #1967D2;\n",
              "      height: 32px;\n",
              "      padding: 0 0 0 0;\n",
              "      width: 32px;\n",
              "    }\n",
              "\n",
              "    .colab-df-convert:hover {\n",
              "      background-color: #E2EBFA;\n",
              "      box-shadow: 0px 1px 2px rgba(60, 64, 67, 0.3), 0px 1px 3px 1px rgba(60, 64, 67, 0.15);\n",
              "      fill: #174EA6;\n",
              "    }\n",
              "\n",
              "    [theme=dark] .colab-df-convert {\n",
              "      background-color: #3B4455;\n",
              "      fill: #D2E3FC;\n",
              "    }\n",
              "\n",
              "    [theme=dark] .colab-df-convert:hover {\n",
              "      background-color: #434B5C;\n",
              "      box-shadow: 0px 1px 3px 1px rgba(0, 0, 0, 0.15);\n",
              "      filter: drop-shadow(0px 1px 2px rgba(0, 0, 0, 0.3));\n",
              "      fill: #FFFFFF;\n",
              "    }\n",
              "  </style>\n",
              "\n",
              "      <script>\n",
              "        const buttonEl =\n",
              "          document.querySelector('#df-213fd20a-b74d-4dd4-85d3-6e81b47f5b04 button.colab-df-convert');\n",
              "        buttonEl.style.display =\n",
              "          google.colab.kernel.accessAllowed ? 'block' : 'none';\n",
              "\n",
              "        async function convertToInteractive(key) {\n",
              "          const element = document.querySelector('#df-213fd20a-b74d-4dd4-85d3-6e81b47f5b04');\n",
              "          const dataTable =\n",
              "            await google.colab.kernel.invokeFunction('convertToInteractive',\n",
              "                                                     [key], {});\n",
              "          if (!dataTable) return;\n",
              "\n",
              "          const docLinkHtml = 'Like what you see? Visit the ' +\n",
              "            '<a target=\"_blank\" href=https://colab.research.google.com/notebooks/data_table.ipynb>data table notebook</a>'\n",
              "            + ' to learn more about interactive tables.';\n",
              "          element.innerHTML = '';\n",
              "          dataTable['output_type'] = 'display_data';\n",
              "          await google.colab.output.renderOutput(dataTable, element);\n",
              "          const docLink = document.createElement('div');\n",
              "          docLink.innerHTML = docLinkHtml;\n",
              "          element.appendChild(docLink);\n",
              "        }\n",
              "      </script>\n",
              "    </div>\n",
              "  </div>\n",
              "  "
            ]
          },
          "metadata": {},
          "execution_count": 13
        }
      ]
    },
    {
      "cell_type": "code",
      "metadata": {
        "id": "hDUmnsyrAsW6"
      },
      "source": [
        "from sklearn.preprocessing import StandardScaler\n",
        "\n",
        "scaler = StandardScaler()\n",
        "scaler.fit(features_train, )\n",
        "features_train = scaler.transform(features_train)\n",
        "features_test = scaler.transform(features_test)"
      ],
      "execution_count": null,
      "outputs": []
    },
    {
      "cell_type": "code",
      "metadata": {
        "colab": {
          "base_uri": "https://localhost:8080/"
        },
        "id": "RAOZC3ziAsW7",
        "outputId": "107fd7a6-e335-4e12-ec6c-6ae69d99cd54"
      },
      "source": [
        "%%time\n",
        "\n",
        "model_regression = LogisticRegression()\n",
        "model_regression.fit(features_train, target_train)\n",
        "predicted_regression = model_regression.predict(features_test)\n",
        "\n",
        "print(\"MAE модели на тестовой выборке:\", mean_absolute_error(target_test, predicted_regression))"
      ],
      "execution_count": null,
      "outputs": [
        {
          "output_type": "stream",
          "name": "stdout",
          "text": [
            "MAE модели на тестовой выборке: 0.0002144180846338811\n",
            "CPU times: user 12.2 s, sys: 1.43 s, total: 13.6 s\n",
            "Wall time: 3.61 s\n"
          ]
        }
      ]
    },
    {
      "cell_type": "code",
      "metadata": {
        "id": "hjYdQCp_AsW8"
      },
      "source": [
        "from sklearn.ensemble import RandomForestClassifier"
      ],
      "execution_count": null,
      "outputs": []
    },
    {
      "cell_type": "code",
      "metadata": {
        "colab": {
          "base_uri": "https://localhost:8080/"
        },
        "id": "Hr3BLSPfAsW9",
        "outputId": "9342e618-659d-41b8-8004-c8ff34113774"
      },
      "source": [
        "%%time\n",
        "\n",
        "model_forest = RandomForestClassifier(n_estimators= 50, max_depth=30, min_samples_leaf= 5, min_samples_split= 16)\n",
        "#model_forest = RandomForestClassifier(n_estimators= 30, max_depth=21, min_samples_leaf= 1, min_samples_split= 8)\n",
        "model_forest.fit(features_train, target_train)\n",
        "predicted_forest = model_forest.predict(features_test)\n",
        "\n",
        "print(\"MAE модели на тестовой выборке:\", mean_absolute_error(target_test, predicted_forest))"
      ],
      "execution_count": null,
      "outputs": [
        {
          "output_type": "stream",
          "name": "stdout",
          "text": [
            "MAE модели на тестовой выборке: 0.04896390118389414\n",
            "CPU times: user 13.6 s, sys: 14.1 ms, total: 13.6 s\n",
            "Wall time: 13.5 s\n"
          ]
        }
      ]
    },
    {
      "cell_type": "code",
      "metadata": {
        "id": "eqIXXFMoAsXB"
      },
      "source": [
        "features_final_test = data_test.drop(['flg_90_12_add', 'APPLICATION_MONTH'], axis=1)\n",
        "target_final_test = model_regression.predict(features_final_test)"
      ],
      "execution_count": null,
      "outputs": []
    },
    {
      "cell_type": "code",
      "metadata": {
        "id": "YKVGy6QsAsXC"
      },
      "source": [
        "df = pd.DataFrame(data=target_final_test, columns=[\"flg_90_12_add\"])\n",
        "df.index = features_final_test.index"
      ],
      "execution_count": null,
      "outputs": []
    },
    {
      "cell_type": "code",
      "metadata": {
        "colab": {
          "base_uri": "https://localhost:8080/"
        },
        "id": "VvdubjyYEwX3",
        "outputId": "812f6f83-ab3e-4c91-e1b8-a21562643109"
      },
      "source": [
        "df['flg_90_12_add'].value_counts()"
      ],
      "execution_count": null,
      "outputs": [
        {
          "output_type": "execute_result",
          "data": {
            "text/plain": [
              "1.0    552\n",
              "0.0    448\n",
              "Name: flg_90_12_add, dtype: int64"
            ]
          },
          "metadata": {},
          "execution_count": 43
        }
      ]
    },
    {
      "cell_type": "code",
      "metadata": {
        "id": "73WsDsFrAsXF"
      },
      "source": [
        "from sklearn.model_selection import GridSearchCV"
      ],
      "execution_count": null,
      "outputs": []
    },
    {
      "cell_type": "code",
      "metadata": {
        "colab": {
          "base_uri": "https://localhost:8080/"
        },
        "id": "2Cn1dlj6AsXG",
        "outputId": "b3cca3b1-dcfc-4325-f8b9-d285ad0334be"
      },
      "source": [
        "data_pd = pd.merge(copy.deepcopy(model_pd), data, how= 'left', on='incident')\n",
        "data_pd.info()"
      ],
      "execution_count": null,
      "outputs": [
        {
          "output_type": "stream",
          "name": "stdout",
          "text": [
            "<class 'pandas.core.frame.DataFrame'>\n",
            "Int64Index: 82617 entries, 0 to 82616\n",
            "Columns: 1912 entries, incident to weights\n",
            "dtypes: float64(1839), int64(72), object(1)\n",
            "memory usage: 1.2+ GB\n"
          ]
        }
      ]
    },
    {
      "cell_type": "code",
      "metadata": {
        "id": "NznuFUlJFKkI"
      },
      "source": [
        "data"
      ],
      "execution_count": null,
      "outputs": []
    },
    {
      "cell_type": "code",
      "metadata": {
        "id": "JZlJzmRWAsXH"
      },
      "source": [
        "#data_pd = data_pd.dropna(axis = 1, thresh=40000)"
      ],
      "execution_count": null,
      "outputs": []
    },
    {
      "cell_type": "code",
      "metadata": {
        "id": "y0CMIdr-AsXI"
      },
      "source": [
        "data_pd.fillna(0, inplace=True)"
      ],
      "execution_count": null,
      "outputs": []
    },
    {
      "cell_type": "code",
      "source": [
        "data = data.loc[:, ~data.columns.str.contains('^Unnamed')]"
      ],
      "metadata": {
        "id": "j4GPUcIOuKaC"
      },
      "execution_count": null,
      "outputs": []
    },
    {
      "cell_type": "code",
      "metadata": {
        "id": "Dwz-BJtBAsXJ"
      },
      "source": [
        "target_kt = data['target_kt']\n",
        "features_kt = data.drop(['target_kt'], axis=1)\n",
        "features_train_kt, features_test_kt, target_train_kt, target_test_kt = train_test_split(\n",
        "    features_kt, target_kt, test_size=0.20, random_state=12345, stratify = None)"
      ],
      "execution_count": null,
      "outputs": []
    },
    {
      "cell_type": "code",
      "metadata": {
        "id": "359-AqbmItJc"
      },
      "source": [
        "features_train_kt"
      ],
      "execution_count": null,
      "outputs": []
    },
    {
      "cell_type": "code",
      "metadata": {
        "id": "lCIC9E36AsXJ"
      },
      "source": [
        "from sklearn.preprocessing import StandardScaler \n",
        "\n",
        "scaler = StandardScaler()\n",
        "scaler.fit(features_train_kt)\n",
        "features_train_kt = scaler.transform(features_train_kt)\n",
        "features_test_kt = scaler.transform(features_test_kt)"
      ],
      "execution_count": null,
      "outputs": []
    },
    {
      "cell_type": "code",
      "metadata": {
        "colab": {
          "base_uri": "https://localhost:8080/"
        },
        "id": "gBJehDAOAsXL",
        "outputId": "c05a2169-c880-46ac-c9a5-2b46ce142cc9"
      },
      "source": [
        "%%time\n",
        "\n",
        "model_cat = CatBoostRegressor(depth=4, n_estimators=40, learning_rate=0.01, loss_function='MAE', verbose=False)\n",
        "#model_cat = CatBoostRegressor(depth=1, n_estimators=30, learning_rate=1, loss_function='MAE', verbose=False)\n",
        "model_cat.fit(features_train_kt, target_train_kt)\n",
        "predicted_cat = model_cat.predict(features_test_kt)\n",
        "\n",
        "print(\"MAE модели на тестовой выборке:\", mean_absolute_error(target_test_kt, predicted_cat))"
      ],
      "execution_count": null,
      "outputs": [
        {
          "output_type": "stream",
          "name": "stdout",
          "text": [
            "MAE модели на тестовой выборке: 0.48933209679652256\n",
            "CPU times: user 185 ms, sys: 55.6 ms, total: 241 ms\n",
            "Wall time: 224 ms\n"
          ]
        }
      ]
    },
    {
      "cell_type": "code",
      "metadata": {
        "id": "A7xErA0WAsXN"
      },
      "source": [
        "%%time\n",
        "\n",
        "gbm = lgb.LGBMRegressor(boosting_type='gbdt', num_leaves=3, \n",
        "                        max_depth=- 1, learning_rate=0.1, \n",
        "                        n_estimators=40)\n",
        "\n",
        "gbm.fit(features_train_kt, target_train_kt,\n",
        "        eval_set=[(features_test_kt, target_test_kt)],\n",
        "        eval_metric='l1',\n",
        "        early_stopping_rounds=1000)\n",
        "predicted_lgb = gbm.predict(features_test, num_iteration=gbm.best_iteration_)\n",
        "\n",
        "print(\"MAE модели на тестовой выборке:\", mean_absolute_error(target_test_kt, predicted_lgb))"
      ],
      "execution_count": null,
      "outputs": []
    },
    {
      "cell_type": "code",
      "metadata": {
        "id": "WcLC888VAsXO"
      },
      "source": [
        "features_pd_test = data_test_pd.drop(['flg_90_12_add', 'APPLICATION_MONTH', 'PD'], axis=1)\n",
        "target_pd_test = model_cat.predict(features_pd_test)"
      ],
      "execution_count": null,
      "outputs": []
    },
    {
      "cell_type": "code",
      "metadata": {
        "id": "UMw51kTRNdR5"
      },
      "source": [
        "# дообучение на результатах классификации\n",
        "\n",
        "features_pd_test = pd.concat([features_pd_test, df['flg_90_12_add']], axis=1)"
      ],
      "execution_count": null,
      "outputs": []
    },
    {
      "cell_type": "code",
      "metadata": {
        "id": "Ovt4LVaMOZ69"
      },
      "source": [
        "features_pd_test = features_pd_test.drop(['Feature_1865'], axis=1)"
      ],
      "execution_count": null,
      "outputs": []
    },
    {
      "cell_type": "code",
      "metadata": {
        "id": "HRbKEjGQAsXO"
      },
      "source": [
        "df_pd = pd.DataFrame(data=target_pd_test, columns=[\"PD\"])\n",
        "df_pd.index = features_pd_test.index"
      ],
      "execution_count": null,
      "outputs": []
    },
    {
      "cell_type": "code",
      "metadata": {
        "id": "xcdRnp8MAsXP"
      },
      "source": [
        "df_pd.info()"
      ],
      "execution_count": null,
      "outputs": []
    },
    {
      "cell_type": "code",
      "metadata": {
        "colab": {
          "base_uri": "https://localhost:8080/"
        },
        "id": "G_yvzxW0AsXP",
        "outputId": "f0d92e9c-3300-4afb-af20-e4ac21c4f2ac"
      },
      "source": [
        "print(df_pd)"
      ],
      "execution_count": null,
      "outputs": [
        {
          "output_type": "stream",
          "name": "stdout",
          "text": [
            "                PD\n",
            "incident          \n",
            "21000721  0.015517\n",
            "20969929 -0.093725\n",
            "20970028  0.000410\n",
            "21001976  0.069258\n",
            "21003292  0.013117\n",
            "...            ...\n",
            "20559842 -0.089825\n",
            "20380255 -0.122068\n",
            "20348581  0.004015\n",
            "21118162  0.067626\n",
            "21452003  0.037100\n",
            "\n",
            "[1000 rows x 1 columns]\n"
          ]
        }
      ]
    },
    {
      "cell_type": "code",
      "metadata": {
        "id": "AqVUbGYlAsXP"
      },
      "source": [
        "df['flg_90_12_add']"
      ],
      "execution_count": null,
      "outputs": []
    },
    {
      "cell_type": "code",
      "metadata": {
        "id": "_4LK9cF1AsXP"
      },
      "source": [
        "final_data = pd.merge(df_pd, df, how= 'left', on='incident')\n",
        "final_data.info()"
      ],
      "execution_count": null,
      "outputs": []
    },
    {
      "cell_type": "code",
      "metadata": {
        "id": "HdhrUIVEAsXQ"
      },
      "source": [
        "final_data['PD-flg_90_12_add'] = np.abs(final_data['PD'] - final_data['flg_90_12_add'])\n",
        "final_data = final_data.drop(['flg_90_12_add', 'PD'], axis=1)"
      ],
      "execution_count": null,
      "outputs": []
    },
    {
      "cell_type": "code",
      "metadata": {
        "id": "O2YKghmGAsXQ"
      },
      "source": [
        "final_data.info()"
      ],
      "execution_count": null,
      "outputs": []
    },
    {
      "cell_type": "code",
      "metadata": {
        "id": "k8PX8oNjAsXQ"
      },
      "source": [
        "#final_data.reset_index(drop=True, inplace=True)"
      ],
      "execution_count": null,
      "outputs": []
    },
    {
      "cell_type": "code",
      "metadata": {
        "id": "PwpYCXJPAsXR"
      },
      "source": [
        "final_data.to_csv('/content/drive/MyDrive/OpenData/sample_submission (1).csv', header=False, index=False)"
      ],
      "execution_count": null,
      "outputs": []
    }
  ]
}